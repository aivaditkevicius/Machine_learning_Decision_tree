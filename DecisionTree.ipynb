{
 "cells": [
  {
   "cell_type": "code",
   "execution_count": 128,
   "id": "78046def-2e38-4fde-9842-47cd073f488e",
   "metadata": {
    "tags": []
   },
   "outputs": [
    {
     "data": {
      "text/plain": [
       "array([6327, 6327], dtype=int64)"
      ]
     },
     "execution_count": 128,
     "metadata": {},
     "output_type": "execute_result"
    }
   ],
   "source": [
    "import pandas as pd\n",
    "import numpy as np\n",
    "from sklearn.tree import DecisionTreeClassifier\n",
    "sales_data = pd.read_csv('daba.csv')\n",
    "sales_data['Order Date'] = pd.to_datetime(sales_data['Order Date'])\n",
    "x = sales_data['Order Date'].values.reshape(-1,1)\n",
    "y = sales_data['Units Sold'].values.reshape(-1,1)\n",
    "model = DecisionTreeClassifier()\n",
    "model.fit(x,y)\n",
    "predictions = model.predict([[         ], [          ]])\n",
    "predictions"
   ]
  },
  {
   "cell_type": "code",
   "execution_count": null,
   "id": "4ea2d8d3-0e2d-4830-b640-a082e0837097",
   "metadata": {},
   "outputs": [],
   "source": []
  },
  {
   "cell_type": "code",
   "execution_count": null,
   "id": "fceec7a8-c01c-4bf7-ad5d-c41eecb46c68",
   "metadata": {},
   "outputs": [],
   "source": []
  }
 ],
 "metadata": {
  "kernelspec": {
   "display_name": "Python 3 (ipykernel)",
   "language": "python",
   "name": "python3"
  },
  "language_info": {
   "codemirror_mode": {
    "name": "ipython",
    "version": 3
   },
   "file_extension": ".py",
   "mimetype": "text/x-python",
   "name": "python",
   "nbconvert_exporter": "python",
   "pygments_lexer": "ipython3",
   "version": "3.8.8"
  }
 },
 "nbformat": 4,
 "nbformat_minor": 5
}
